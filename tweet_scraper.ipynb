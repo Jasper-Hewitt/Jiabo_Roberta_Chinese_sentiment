{
 "cells": [
  {
   "cell_type": "code",
   "execution_count": 1,
   "id": "228bb3e5",
   "metadata": {},
   "outputs": [
    {
     "name": "stdout",
     "output_type": "stream",
     "text": [
      "Requirement already satisfied: selenium in ./opt/anaconda3/lib/python3.9/site-packages (4.7.2)\n",
      "Requirement already satisfied: trio-websocket~=0.9 in ./opt/anaconda3/lib/python3.9/site-packages (from selenium) (0.9.2)\n",
      "Requirement already satisfied: urllib3[socks]~=1.26 in ./opt/anaconda3/lib/python3.9/site-packages (from selenium) (1.26.11)\n",
      "Requirement already satisfied: trio~=0.17 in ./opt/anaconda3/lib/python3.9/site-packages (from selenium) (0.22.0)\n",
      "Requirement already satisfied: certifi>=2021.10.8 in ./opt/anaconda3/lib/python3.9/site-packages (from selenium) (2022.9.24)\n",
      "Requirement already satisfied: attrs>=19.2.0 in ./opt/anaconda3/lib/python3.9/site-packages (from trio~=0.17->selenium) (21.4.0)\n",
      "Requirement already satisfied: sniffio in ./opt/anaconda3/lib/python3.9/site-packages (from trio~=0.17->selenium) (1.2.0)\n",
      "Requirement already satisfied: outcome in ./opt/anaconda3/lib/python3.9/site-packages (from trio~=0.17->selenium) (1.2.0)\n",
      "Requirement already satisfied: async-generator>=1.9 in ./opt/anaconda3/lib/python3.9/site-packages (from trio~=0.17->selenium) (1.10)\n",
      "Requirement already satisfied: idna in ./opt/anaconda3/lib/python3.9/site-packages (from trio~=0.17->selenium) (3.3)\n",
      "Requirement already satisfied: sortedcontainers in ./opt/anaconda3/lib/python3.9/site-packages (from trio~=0.17->selenium) (2.4.0)\n",
      "Requirement already satisfied: exceptiongroup>=1.0.0rc9 in ./opt/anaconda3/lib/python3.9/site-packages (from trio~=0.17->selenium) (1.0.4)\n",
      "Requirement already satisfied: wsproto>=0.14 in ./opt/anaconda3/lib/python3.9/site-packages (from trio-websocket~=0.9->selenium) (1.2.0)\n",
      "Requirement already satisfied: PySocks!=1.5.7,<2.0,>=1.5.6 in ./opt/anaconda3/lib/python3.9/site-packages (from urllib3[socks]~=1.26->selenium) (1.7.1)\n",
      "Requirement already satisfied: h11<1,>=0.9.0 in ./opt/anaconda3/lib/python3.9/site-packages (from wsproto>=0.14->trio-websocket~=0.9->selenium) (0.14.0)\n",
      "\u001b[31mERROR: Could not find a version that satisfies the requirement webdriver (from versions: none)\u001b[0m\u001b[31m\n",
      "\u001b[0m\u001b[31mERROR: No matching distribution found for webdriver\u001b[0m\u001b[31m\n",
      "\u001b[0m"
     ]
    }
   ],
   "source": [
    "!pip install selenium\n",
    "!pip install webdriver"
   ]
  },
  {
   "cell_type": "code",
   "execution_count": 2,
   "id": "c0094743",
   "metadata": {},
   "outputs": [],
   "source": [
    "import csv \n",
    "from selenium.webdriver.common.keys import Keys\n",
    "from selenium.common.exceptions import NoSuchElementException\n",
    "import os\n",
    "import sys\n",
    "os.path.dirname(sys.executable)\n",
    "from time import sleep\n",
    "from selenium import webdriver\n",
    "from selenium.webdriver import Chrome \n",
    "from selenium.webdriver.chrome.options import Options as ChromeOptions\n",
    "browser = webdriver.Chrome()\n",
    "driver = webdriver.Chrome()"
   ]
  },
  {
   "cell_type": "code",
   "execution_count": 10,
   "id": "cbf2151c",
   "metadata": {},
   "outputs": [],
   "source": [
    "def get_tweet_data(card):\n",
    "    \"\"\"Extract data from tweet card\"\"\"\n",
    "    username = card.find_element(\"xpath\",'.//span').text\n",
    "    try:\n",
    "        handle = card.find_element(\"xpath\",'.//span[contains(text(), \"@\")]').text\n",
    "    except NoSuchElementException:\n",
    "        return\n",
    "    \n",
    "    try:\n",
    "        postdate = card.find_element(\"xpath\",'.//time').get_attribute('datetime')\n",
    "    except NoSuchElementException:\n",
    "        return\n",
    "    \n",
    "    comment = card.find_element(\"xpath\",'.//div[2]/div[2]/div[1]').text\n",
    "    responding = card.find_element(\"xpath\",'.//div[2]/div[2]/div[2]').text\n",
    "    text = comment + responding\n",
    "    reply_cnt = card.find_element(\"xpath\",'.//div[@data-testid=\"reply\"]').text\n",
    "    retweet_cnt = card.find_element(\"xpath\",'.//div[@data-testid=\"retweet\"]').text\n",
    "    like_cnt = card.find_element(\"xpath\",'.//div[@data-testid=\"like\"]').text\n",
    "\n",
    "    \n",
    "    tweet = (username, handle, postdate, text, reply_cnt, retweet_cnt, like_cnt)\n",
    "    return tweet  "
   ]
  },
  {
   "cell_type": "code",
   "execution_count": 11,
   "id": "ef71e0a6",
   "metadata": {},
   "outputs": [],
   "source": [
    "#log in to twitter\n",
    "driver.get('https://twitter.com/login')"
   ]
  },
  {
   "cell_type": "code",
   "execution_count": 12,
   "id": "528cc3e5",
   "metadata": {},
   "outputs": [
    {
     "name": "stdout",
     "output_type": "stream",
     "text": [
      "search term: 蔣萬安\n"
     ]
    },
    {
     "ename": "AttributeError",
     "evalue": "'WebDriver' object has no attribute 'find_element_by_link_text'",
     "output_type": "error",
     "traceback": [
      "\u001b[0;31m---------------------------------------------------------------------------\u001b[0m",
      "\u001b[0;31mAttributeError\u001b[0m                            Traceback (most recent call last)",
      "\u001b[0;32m/var/folders/kf/vzjyh1g17x3gw7hgly31fnc80000gn/T/ipykernel_3338/699707655.py\u001b[0m in \u001b[0;36m<module>\u001b[0;34m\u001b[0m\n\u001b[1;32m     12\u001b[0m \u001b[0;34m\u001b[0m\u001b[0m\n\u001b[1;32m     13\u001b[0m \u001b[0;31m# navigate to historical 'latest' tab\u001b[0m\u001b[0;34m\u001b[0m\u001b[0;34m\u001b[0m\u001b[0m\n\u001b[0;32m---> 14\u001b[0;31m \u001b[0mdriver\u001b[0m\u001b[0;34m.\u001b[0m\u001b[0mfind_element_by_link_text\u001b[0m\u001b[0;34m(\u001b[0m\u001b[0;34m'Latest'\u001b[0m\u001b[0;34m)\u001b[0m\u001b[0;34m.\u001b[0m\u001b[0mclick\u001b[0m\u001b[0;34m(\u001b[0m\u001b[0;34m)\u001b[0m\u001b[0;34m\u001b[0m\u001b[0;34m\u001b[0m\u001b[0m\n\u001b[0m",
      "\u001b[0;31mAttributeError\u001b[0m: 'WebDriver' object has no attribute 'find_element_by_link_text'"
     ]
    }
   ],
   "source": [
    "search_term = input('search term: ')\n",
    "\n",
    "#driver.get('https://twitter.com/search')\n",
    "driver.maximize_window()\n",
    "sleep(5)\n",
    "\n",
    "# find search input and search for term\n",
    "search_input = driver.find_element(\"xpath\",'//input[@aria-label=\"Search query\"]')\n",
    "search_input.send_keys(search_term)\n",
    "search_input.send_keys(Keys.RETURN)\n",
    "sleep(1)\n",
    "\n",
    "# navigate to historical 'latest' tab\n",
    "driver.find_element_by_link_text('Latest').click()"
   ]
  },
  {
   "cell_type": "code",
   "execution_count": 13,
   "id": "81ab123a",
   "metadata": {},
   "outputs": [],
   "source": [
    "# get all tweets on the page\n",
    "data = []\n",
    "tweet_ids = set()\n",
    "last_position = driver.execute_script(\"return window.pageYOffset;\")\n",
    "scrolling = True\n",
    "\n",
    "while scrolling:\n",
    "    page_cards = page_cards = driver.find_elements(\"xpath\", '//article[@data-testid=\"tweet\"]')\n",
    "\n",
    "    #driver.find_elements_by_xpath('//article[@data-testid=\"tweet\"]')\n",
    "    for card in page_cards[-15:]:\n",
    "        tweet = get_tweet_data(card)\n",
    "        if tweet:\n",
    "            tweet_id = ''.join(tweet)\n",
    "            if tweet_id not in tweet_ids:\n",
    "                tweet_ids.add(tweet_id)\n",
    "                data.append(tweet)\n",
    "            \n",
    "    scroll_attempt = 0\n",
    "    while True:\n",
    "        # check scroll position\n",
    "        driver.execute_script('window.scrollTo(0, document.body.scrollHeight);')\n",
    "        sleep(2)\n",
    "        curr_position = driver.execute_script(\"return window.pageYOffset;\")\n",
    "        if last_position == curr_position:\n",
    "            scroll_attempt += 1\n",
    "            \n",
    "            # end of scroll region\n",
    "            if scroll_attempt >= 4:\n",
    "                scrolling = False\n",
    "                break\n",
    "            else:\n",
    "                sleep(2) # attempt another scroll\n",
    "        else:\n",
    "            last_position = curr_position\n",
    "            break\n",
    "\n",
    "# close the web driver\n",
    "driver.close()"
   ]
  },
  {
   "cell_type": "code",
   "execution_count": 14,
   "id": "5694ec0e",
   "metadata": {},
   "outputs": [
    {
     "data": {
      "text/plain": [
       "[('Asian American',\n",
       "  '@AsianAmericanUS',\n",
       "  '2022-11-15T04:56:37.000Z',\n",
       "  'Asian American\\n@AsianAmericanUS\\n·\\nNov 15, 2022Replying to \\n@TaipeiShihChung\\n說真的，#蔣萬安 無能嗎？他最能幹的地方就是跟蔣家聯繫。那個 #黃珊珊 有全台的老軍給她靠山。 #陳時中 呢？只在這三年防禦這一方面保護台灣人，讓台灣在全世界變成最優秀的國家。只有這樣子啊！大不了！\\n6',\n",
       "  '',\n",
       "  '',\n",
       "  '6'),\n",
       " ('Asian American',\n",
       "  '@AsianAmericanUS',\n",
       "  '2022-11-14T04:31:35.000Z',\n",
       "  'Asian American\\n@AsianAmericanUS\\n·\\nNov 14, 2022Replying to \\n@kuomintang\\n and \\n@eric_chu0607\\nThat’s funny, because we all know that the KMT #中國 #國民黨 has made ZERO contribution to Taiwan’s democracy. Not Eric Chu #朱立倫, not Ma Ying-Jeou #馬英九 and definitely NOT the Chiang family #蔣家 。國民黨對台灣的民主化一點都沒有貢獻。 #蔣萬安\\n2\\n5\\n25',\n",
       "  '2',\n",
       "  '5',\n",
       "  '25'),\n",
       " ('觔斗雲 #FuckPutin #StandWithUkraine',\n",
       "  '@Saltocloud',\n",
       "  '2022-11-13T15:44:11.000Z',\n",
       "  '觔斗雲 #FuckPutin #StandWithUkraine\\n@Saltocloud\\n·\\nNov 13, 2022@WananChiang\\n 欸萬安啊～不得不說，你的中文，真他媽爛透了\\n\\n#蔣萬安 #章萬安 #x萬安 \\n#笑CRY',\n",
       "  '',\n",
       "  '',\n",
       "  ''),\n",
       " ('長輩圖',\n",
       "  '@TISAtoromi',\n",
       "  '2022-11-13T05:40:06.000Z',\n",
       "  '長輩圖\\n@TISAtoromi\\n·\\nNov 13, 2022對於 #蔣萬安 舉韓國Gmarket併給美國eBay的案子。曹興誠指出「代表」或「直接參與」這個案子？語焉不詳，其實只是在 #外圍跑腿 而已。曹興誠強調，蔣萬安在2009年2月遭到WSGR事務所資遣，Gmarket和eBay併購案4月才完成。如果蔣是該併購案的要角，不會被提前資遣。所以拿這個案子來吹牛，基本上是膨風。\\n1\\n3\\n17',\n",
       "  '1',\n",
       "  '3',\n",
       "  '17'),\n",
       " ('#綠油精 #深蹲市市民 #殺人魔孫子主政',\n",
       "  '@nimblevettw',\n",
       "  '2022-11-10T17:04:39.000Z',\n",
       "  '#綠油精 #深蹲市市民 #殺人魔孫子主政\\n@nimblevettw\\n·\\nNov 11, 2022Replying to \\n@KaseizenKo\\n and \\n@nonoac\\n支那人每次都喜歡教訓別人 中文怎麼念。\\n可是自己常常唸錯字\\n\\n#習近平 到 #三姓公子萬安 #蔣萬安 #章萬安 #郭萬安 \\n支那人就是那個下流齷蹉個性\\n1:21\\n39 views\\n1:13\\n2 views\\n1',\n",
       "  '1',\n",
       "  '',\n",
       "  ''),\n",
       " ('Ping Ann',\n",
       "  '@Ping__Ann',\n",
       "  '2022-11-08T15:55:38.000Z',\n",
       "  'Ping Ann\\n@Ping__Ann\\n·\\nNov 8, 2022Replying to \\n@dabowagaga\\n我倒很想知道，這背後的故事.....\\n\\n#蔣萬安 #徐巧芯\\n1\\n3',\n",
       "  '',\n",
       "  '1',\n",
       "  '3'),\n",
       " ('TOdiary',\n",
       "  '@TOdiary',\n",
       "  '2022-11-07T23:54:28.000Z',\n",
       "  'TOdiary\\n@TOdiary\\n·\\nNov 8, 2022Replying to \\n@AsianAmericanUS\\n#蔣萬安 是 #趙少康 跟 #馬英九 支持的候選人，那兩位是台灣最腐敗的賣國賊！\\n2',\n",
       "  '',\n",
       "  '',\n",
       "  '2'),\n",
       " ('緊緻圓滑奏Legato con intensity',\n",
       "  '@legatintensita',\n",
       "  '2022-11-05T23:19:17.000Z',\n",
       "  '緊緻圓滑奏Legato con intensity\\n@legatintensita\\n·\\nNov 6, 2022@WananChiang\\n @kuomintang\\n #蔣萬安 看看哭不出聲的台灣孩子們：\\nhttps://facebook.com/100005343641513/posts/2089407184580716/?d=n…\\n#讓嬰兒的哭啼聲成為台北的交響樂（？萬安，2022）。\\n#轉\\n目前已知228死難者，16歲以下者共28位。他們都是無辜受害，有遭流彈誤擊、有死於刺刀下，更有因母親遭國府軍人凌辱，受驚嚇大哭而被射殺，來不及長大。',\n",
       "  '',\n",
       "  '',\n",
       "  '')]"
      ]
     },
     "execution_count": 14,
     "metadata": {},
     "output_type": "execute_result"
    }
   ],
   "source": [
    "data"
   ]
  },
  {
   "cell_type": "code",
   "execution_count": 16,
   "id": "b73af9fa",
   "metadata": {},
   "outputs": [],
   "source": [
    "with open('extrajiang.csv', 'w', newline='', encoding='utf-8') as f:\n",
    "    header = ['UserName', 'Handle', 'Timestamp', 'Text', 'Comments', 'Likes', 'Retweets']\n",
    "    writer = csv.writer(f)\n",
    "    writer.writerow(header)\n",
    "    writer.writerows(data)"
   ]
  },
  {
   "cell_type": "code",
   "execution_count": null,
   "id": "b0879a62",
   "metadata": {},
   "outputs": [],
   "source": []
  }
 ],
 "metadata": {
  "kernelspec": {
   "display_name": "Python 3 (ipykernel)",
   "language": "python",
   "name": "python3"
  },
  "language_info": {
   "codemirror_mode": {
    "name": "ipython",
    "version": 3
   },
   "file_extension": ".py",
   "mimetype": "text/x-python",
   "name": "python",
   "nbconvert_exporter": "python",
   "pygments_lexer": "ipython3",
   "version": "3.9.13"
  }
 },
 "nbformat": 4,
 "nbformat_minor": 5
}
